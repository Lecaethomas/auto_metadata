{
 "cells": [
  {
   "cell_type": "code",
   "execution_count": 6,
   "metadata": {},
   "outputs": [],
   "source": [
    "import psycopg2\n",
    "from tabulate import tabulate\n",
    "\n",
    "# PostgreSQL database connection details\n",
    "host = \"localhost\"\n",
    "database = \"postgres\"\n",
    "user = \"postgres\"\n",
    "password = \"admin\"\n",
    "port = \"5432\"\n",
    "\n",
    "# Name of the schema to analyze\n",
    "schema_name = \"cvi\"\n",
    "\n",
    "# Connect to PostgreSQL database\n",
    "conn = psycopg2.connect(\n",
    "    host=host,\n",
    "    database=database,\n",
    "    user=user,\n",
    "    password=password,\n",
    "    port=port\n",
    ")\n",
    "\n",
    "# Create a cursor\n",
    "cur = conn.cursor()\n",
    "\n",
    "# Retrieve metadata for each table in the schema\n",
    "cur.execute(\"\"\"\n",
    "    SELECT table_name, column_name, data_type, character_maximum_length, is_nullable\n",
    "    FROM information_schema.columns\n",
    "    WHERE table_schema = %s\n",
    "    ORDER BY table_name, ordinal_position\n",
    "\"\"\", (schema_name,))\n",
    "\n",
    "# Group the metadata by table\n",
    "table_metadata = {}\n",
    "for row in cur.fetchall():\n",
    "    table_name, column_name, data_type, character_maximum_length, is_nullable = row\n",
    "    if table_name not in table_metadata:\n",
    "        table_metadata[table_name] = []\n",
    "    table_metadata[table_name].append((column_name, data_type, character_maximum_length, is_nullable))\n",
    "\n",
    "# Generate LaTeX file with table metadata\n",
    "with open(\"output/table_metadata.tex\", \"w\") as f:\n",
    "    for table_name, metadata in table_metadata.items():\n",
    "        headers = [\"Column Name\", \"Data Type\", \"Max Length\", \"Nullable\"]\n",
    "        table = tabulate(metadata, headers=headers, tablefmt=\"latex_raw\")\n",
    "        f.write(\"\\\\subsection*{Table: \" + table_name + \"}\\n\")\n",
    "        f.write(table + \"\\n\")\n",
    "        \n"
   ]
  }
 ],
 "metadata": {
  "kernelspec": {
   "display_name": "metdata",
   "language": "python",
   "name": "python3"
  },
  "language_info": {
   "codemirror_mode": {
    "name": "ipython",
    "version": 3
   },
   "file_extension": ".py",
   "mimetype": "text/x-python",
   "name": "python",
   "nbconvert_exporter": "python",
   "pygments_lexer": "ipython3",
   "version": "3.11.2"
  },
  "orig_nbformat": 4
 },
 "nbformat": 4,
 "nbformat_minor": 2
}
